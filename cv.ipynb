{
 "cells": [
  {
   "cell_type": "code",
   "execution_count": 1,
   "id": "300c7632-5be8-4b2b-b950-36750fcd28d2",
   "metadata": {},
   "outputs": [],
   "source": [
    "import cv2\n",
    "from ultralytics import YOLO\n"
   ]
  },
  {
   "cell_type": "code",
   "execution_count": 2,
   "id": "93c4e734-ab65-4a0e-9f84-5dce08c8f894",
   "metadata": {},
   "outputs": [],
   "source": [
    "cigarette_model = YOLO(\"best.pt\")\n"
   ]
  },
  {
   "cell_type": "markdown",
   "id": "e147d6ea-974d-4f1c-b3ea-2545eaf6a945",
   "metadata": {},
   "source": [
    "Load your trained model"
   ]
  },
  {
   "cell_type": "code",
   "execution_count": 3,
   "id": "193d3bbd-a967-41cc-940f-abe87a9df1e2",
   "metadata": {
    "scrolled": true
   },
   "outputs": [],
   "source": [
    "face_cascade = cv2.CascadeClassifier(cv2.data.haarcascades + 'haarcascade_frontalface_default.xml')\n"
   ]
  },
  {
   "cell_type": "code",
   "execution_count": 4,
   "id": "09891d13-2fbe-4852-97ab-9af8a9bdd2f6",
   "metadata": {},
   "outputs": [],
   "source": [
    "cap = cv2.VideoCapture(0)\n"
   ]
  },
  {
   "cell_type": "markdown",
   "id": "8c8a0ce2-ba5d-4c07-ba7a-d3f863ce4ec6",
   "metadata": {},
   "source": [
    "Open webcam"
   ]
  },
  {
   "cell_type": "code",
   "execution_count": 5,
   "id": "c24f59be-51bf-422d-9a4d-34ca129ed359",
   "metadata": {},
   "outputs": [
    {
     "name": "stdout",
     "output_type": "stream",
     "text": [
      "\n",
      "0: 480x640 (no detections), 216.6ms\n",
      "Speed: 8.9ms preprocess, 216.6ms inference, 0.0ms postprocess per image at shape (1, 3, 480, 640)\n",
      "\n",
      "0: 480x640 (no detections), 246.4ms\n",
      "Speed: 0.0ms preprocess, 246.4ms inference, 0.0ms postprocess per image at shape (1, 3, 480, 640)\n",
      "\n",
      "0: 480x640 (no detections), 293.8ms\n",
      "Speed: 5.4ms preprocess, 293.8ms inference, 0.0ms postprocess per image at shape (1, 3, 480, 640)\n",
      "\n",
      "0: 480x640 (no detections), 300.3ms\n",
      "Speed: 5.5ms preprocess, 300.3ms inference, 0.0ms postprocess per image at shape (1, 3, 480, 640)\n",
      "\n",
      "0: 480x640 (no detections), 218.8ms\n",
      "Speed: 0.0ms preprocess, 218.8ms inference, 0.0ms postprocess per image at shape (1, 3, 480, 640)\n",
      "\n",
      "0: 480x640 (no detections), 213.2ms\n",
      "Speed: 0.0ms preprocess, 213.2ms inference, 0.0ms postprocess per image at shape (1, 3, 480, 640)\n",
      "\n",
      "0: 480x640 (no detections), 234.9ms\n",
      "Speed: 0.0ms preprocess, 234.9ms inference, 0.0ms postprocess per image at shape (1, 3, 480, 640)\n",
      "\n",
      "0: 480x640 (no detections), 219.6ms\n",
      "Speed: 6.2ms preprocess, 219.6ms inference, 0.0ms postprocess per image at shape (1, 3, 480, 640)\n",
      "\n",
      "0: 480x640 (no detections), 215.8ms\n",
      "Speed: 0.0ms preprocess, 215.8ms inference, 0.0ms postprocess per image at shape (1, 3, 480, 640)\n",
      "\n",
      "0: 480x640 (no detections), 274.8ms\n",
      "Speed: 0.0ms preprocess, 274.8ms inference, 0.0ms postprocess per image at shape (1, 3, 480, 640)\n",
      "\n",
      "0: 480x640 (no detections), 187.3ms\n",
      "Speed: 5.1ms preprocess, 187.3ms inference, 0.0ms postprocess per image at shape (1, 3, 480, 640)\n",
      "\n",
      "0: 480x640 (no detections), 206.1ms\n",
      "Speed: 6.0ms preprocess, 206.1ms inference, 0.0ms postprocess per image at shape (1, 3, 480, 640)\n",
      "\n",
      "0: 480x640 (no detections), 225.7ms\n",
      "Speed: 5.6ms preprocess, 225.7ms inference, 2.2ms postprocess per image at shape (1, 3, 480, 640)\n",
      "\n",
      "0: 480x640 (no detections), 210.7ms\n",
      "Speed: 5.9ms preprocess, 210.7ms inference, 0.0ms postprocess per image at shape (1, 3, 480, 640)\n",
      "\n",
      "0: 480x640 (no detections), 184.5ms\n",
      "Speed: 4.1ms preprocess, 184.5ms inference, 0.0ms postprocess per image at shape (1, 3, 480, 640)\n",
      "\n",
      "0: 480x640 (no detections), 215.5ms\n",
      "Speed: 0.0ms preprocess, 215.5ms inference, 1.3ms postprocess per image at shape (1, 3, 480, 640)\n",
      "\n",
      "0: 480x640 (no detections), 251.3ms\n",
      "Speed: 0.0ms preprocess, 251.3ms inference, 0.0ms postprocess per image at shape (1, 3, 480, 640)\n",
      "\n",
      "0: 480x640 1 cigarette, 278.7ms\n",
      "Speed: 4.5ms preprocess, 278.7ms inference, 0.0ms postprocess per image at shape (1, 3, 480, 640)\n",
      "\n",
      "0: 480x640 (no detections), 190.0ms\n",
      "Speed: 1.4ms preprocess, 190.0ms inference, 0.0ms postprocess per image at shape (1, 3, 480, 640)\n",
      "\n",
      "0: 480x640 (no detections), 265.6ms\n",
      "Speed: 0.0ms preprocess, 265.6ms inference, 0.0ms postprocess per image at shape (1, 3, 480, 640)\n",
      "\n",
      "0: 480x640 (no detections), 217.0ms\n",
      "Speed: 0.0ms preprocess, 217.0ms inference, 0.0ms postprocess per image at shape (1, 3, 480, 640)\n",
      "\n",
      "0: 480x640 (no detections), 216.3ms\n",
      "Speed: 4.5ms preprocess, 216.3ms inference, 0.9ms postprocess per image at shape (1, 3, 480, 640)\n",
      "\n",
      "0: 480x640 (no detections), 248.5ms\n",
      "Speed: 1.3ms preprocess, 248.5ms inference, 0.0ms postprocess per image at shape (1, 3, 480, 640)\n",
      "\n",
      "0: 480x640 (no detections), 302.2ms\n",
      "Speed: 0.0ms preprocess, 302.2ms inference, 0.0ms postprocess per image at shape (1, 3, 480, 640)\n",
      "\n",
      "0: 480x640 1 cigarette, 218.2ms\n",
      "Speed: 3.0ms preprocess, 218.2ms inference, 7.9ms postprocess per image at shape (1, 3, 480, 640)\n",
      "\n",
      "0: 480x640 (no detections), 227.7ms\n",
      "Speed: 3.6ms preprocess, 227.7ms inference, 0.0ms postprocess per image at shape (1, 3, 480, 640)\n",
      "\n",
      "0: 480x640 (no detections), 241.7ms\n",
      "Speed: 0.0ms preprocess, 241.7ms inference, 0.0ms postprocess per image at shape (1, 3, 480, 640)\n",
      "\n",
      "0: 480x640 (no detections), 225.3ms\n",
      "Speed: 0.0ms preprocess, 225.3ms inference, 0.0ms postprocess per image at shape (1, 3, 480, 640)\n",
      "\n",
      "0: 480x640 (no detections), 346.3ms\n",
      "Speed: 3.6ms preprocess, 346.3ms inference, 0.0ms postprocess per image at shape (1, 3, 480, 640)\n",
      "\n",
      "0: 480x640 (no detections), 226.9ms\n",
      "Speed: 0.0ms preprocess, 226.9ms inference, 0.0ms postprocess per image at shape (1, 3, 480, 640)\n",
      "\n",
      "0: 480x640 (no detections), 224.0ms\n",
      "Speed: 0.0ms preprocess, 224.0ms inference, 0.0ms postprocess per image at shape (1, 3, 480, 640)\n",
      "\n",
      "0: 480x640 (no detections), 192.0ms\n",
      "Speed: 1.7ms preprocess, 192.0ms inference, 0.0ms postprocess per image at shape (1, 3, 480, 640)\n",
      "\n",
      "0: 480x640 (no detections), 211.4ms\n",
      "Speed: 4.7ms preprocess, 211.4ms inference, 0.0ms postprocess per image at shape (1, 3, 480, 640)\n",
      "\n",
      "0: 480x640 (no detections), 188.3ms\n",
      "Speed: 0.0ms preprocess, 188.3ms inference, 0.0ms postprocess per image at shape (1, 3, 480, 640)\n",
      "\n",
      "0: 480x640 (no detections), 231.2ms\n",
      "Speed: 0.0ms preprocess, 231.2ms inference, 0.0ms postprocess per image at shape (1, 3, 480, 640)\n",
      "\n",
      "0: 480x640 (no detections), 218.0ms\n",
      "Speed: 3.2ms preprocess, 218.0ms inference, 0.0ms postprocess per image at shape (1, 3, 480, 640)\n",
      "\n",
      "0: 480x640 (no detections), 258.9ms\n",
      "Speed: 6.2ms preprocess, 258.9ms inference, 0.0ms postprocess per image at shape (1, 3, 480, 640)\n",
      "\n",
      "0: 480x640 (no detections), 201.2ms\n",
      "Speed: 0.0ms preprocess, 201.2ms inference, 1.0ms postprocess per image at shape (1, 3, 480, 640)\n"
     ]
    }
   ],
   "source": [
    "while True:\n",
    "    ret, frame = cap.read()\n",
    "    if not ret:\n",
    "        break\n",
    "\n",
    "    results = cigarette_model(frame)\n",
    "\n",
    "    cigarette_detected = False\n",
    "    for result in results:\n",
    "        for cls in result.boxes.cls:\n",
    "            if result.names[int(cls)] == 'cigarette':\n",
    "                cigarette_detected = True\n",
    "                break\n",
    "        if cigarette_detected:\n",
    "            break\n",
    "\n",
    "    gray_frame = cv2.cvtColor(frame, cv2.COLOR_BGR2GRAY)\n",
    "    faces = face_cascade.detectMultiScale(gray_frame, scaleFactor=1.1, minNeighbors=5, minSize=(30, 30))\n",
    "\n",
    "    for (x, y, w, h) in faces:\n",
    "        if cigarette_detected:\n",
    "            cv2.putText(frame, \"smoking\", (x, y - 10), cv2.FONT_HERSHEY_SIMPLEX, 0.9, (0, 255, 0), 2)\n",
    "        cv2.rectangle(frame, (x, y), (x + w, y + h), (255, 0, 0), 2)\n",
    "\n",
    "    cv2.imshow('Frame', frame)\n",
    "\n",
    "    if cv2.waitKey(1) & 0xFF == ord('q'):\n",
    "        break\n",
    "\n",
    "cap.release()\n",
    "cv2.destroyAllWindows()\n"
   ]
  },
  {
   "cell_type": "code",
   "execution_count": null,
   "id": "937396d5-68ef-423e-8a58-c5b4d22dc5a5",
   "metadata": {},
   "outputs": [],
   "source": []
  }
 ],
 "metadata": {
  "kernelspec": {
   "display_name": "Python 3 (ipykernel)",
   "language": "python",
   "name": "python3"
  },
  "language_info": {
   "codemirror_mode": {
    "name": "ipython",
    "version": 3
   },
   "file_extension": ".py",
   "mimetype": "text/x-python",
   "name": "python",
   "nbconvert_exporter": "python",
   "pygments_lexer": "ipython3",
   "version": "3.11.7"
  }
 },
 "nbformat": 4,
 "nbformat_minor": 5
}
